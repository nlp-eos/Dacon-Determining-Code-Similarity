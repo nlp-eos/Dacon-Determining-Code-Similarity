{
  "nbformat": 4,
  "nbformat_minor": 0,
  "metadata": {
    "colab": {
      "name": "DOBF.ipynb",
      "private_outputs": true,
      "provenance": [],
      "collapsed_sections": []
    },
    "kernelspec": {
      "name": "python3",
      "display_name": "Python 3"
    },
    "language_info": {
      "name": "python"
    }
  },
  "cells": [
    {
      "cell_type": "code",
      "source": [
        "from google.colab import drive\n",
        "drive.mount('/content/drive')"
      ],
      "metadata": {
        "id": "GJpDjarNGQ0K"
      },
      "execution_count": null,
      "outputs": []
    },
    {
      "cell_type": "code",
      "source": [
        "# # 데이터 압축 풀기\n",
        "# %cd /content/drive/MyDrive/determining_code_similarity_AI_competition\n",
        "# !unzip -qq \"/content/drive/MyDrive/determining_code_similarity_AI_competition/CodeGen-main.zip\""
      ],
      "metadata": {
        "id": "mp9US3W1GLV6"
      },
      "execution_count": null,
      "outputs": []
    },
    {
      "cell_type": "code",
      "source": [
        "!pip install transformers\n",
        "!pip install fastBPE\n",
        "!pip install sacrebleu==\"1.4.5\"\n",
        "!pip install unidic-lite\n",
        "!pip install tree_sitter\n",
        "!pip install javalang\n",
        "!pip install mecab-python3==0.996.5"
      ],
      "metadata": {
        "id": "hHWJs3LkJQOF"
      },
      "execution_count": null,
      "outputs": []
    },
    {
      "cell_type": "code",
      "source": [
        "# Define Model\n",
        "from transformers import AutoModel\n",
        "from transformers import AutoTokenizer\n",
        "\n",
        "'''\n",
        "\"microsoft/graphcodebert-base\"\n",
        "\"microsoft/codebert-base\"\n",
        "\"klue/roberta-base\"\n",
        "중 선택\n",
        "'''\n",
        "model = AutoModel.from_pretrained(\"microsoft/graphcodebert-base\")\n",
        "tokenizer = AutoTokenizer.from_pretrained(\"microsoft/graphcodebert-base\")"
      ],
      "metadata": {
        "id": "ydC29WbmbeA8"
      },
      "execution_count": null,
      "outputs": []
    },
    {
      "cell_type": "code",
      "source": [
        "import torch\n",
        "model_path = '/content/drive/MyDrive/determining_code_similarity_AI_competition/model.pth'\n",
        "torch.save(model, model_path) # 모델을 저장해두어야 함"
      ],
      "metadata": {
        "id": "sVxPzQMWcg2Y"
      },
      "execution_count": null,
      "outputs": []
    },
    {
      "cell_type": "code",
      "execution_count": null,
      "metadata": {
        "id": "OnypwgkrDSSw"
      },
      "outputs": [],
      "source": [
        "%cd /content/drive/MyDrive/determining_code_similarity_AI_competition/CodeGen_main\n",
        "\n",
        "from codegen_sources.wrappers.models import ModelPython, ModelConfig\n",
        "from codegen_sources.wrappers.tokenizer import PythonTokenizer\n",
        "import torch\n",
        "config = ModelConfig.from_pretrained(model_path)\n",
        "encoder = ModelPython.from_pretrained(model_path, config=config) # loading model\n",
        "tokenizer = PythonTokenizer.from_pretrained(model_path) # loading tokenizer\n",
        "\n",
        "code = \"\"\"def factorial(n):\n",
        "  res = 0\n",
        "  for i in range(1, n+1):\n",
        "    res *= i\n",
        "  return res\n",
        "\"\"\"\n",
        "\n",
        "tokens = tokenizer.tokenize(factorial)\n",
        "ids = torch.tensor([tokenizer.convert_tokens_to_ids(tokens)], dtype=torch.long)\n",
        "\n",
        "encoded_code = encoder(input_ids=ids, attention_mask=ids.ne(1))"
      ]
    }
  ]
}